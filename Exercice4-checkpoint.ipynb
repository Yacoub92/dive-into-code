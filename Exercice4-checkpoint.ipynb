{
 "cells": [
  {
   "cell_type": "code",
   "execution_count": 1,
   "metadata": {},
   "outputs": [
    {
     "name": "stdout",
     "output_type": "stream",
     "text": [
      "The solar system will be covered with chestnut manju in 165 minutes.\n"
     ]
    }
   ],
   "source": [
    "# let assume that the chestnut manju is a sphere with a radius of 4 cm. Using the formula for the volume of a sphere\n",
    "radius = 4 # cm\n",
    "volume = 4/4 * 3.14 * radius ** 3 # cm^3\n",
    "\n",
    "# let's define the volume of the solar system\n",
    "solar_system_volume = 1.41e18 # km^3\n",
    "\n",
    "# here we create a loop that doubles the number of chestnut manju every 5 minutes and keep track of the total volume of chestnut manju and the elapsed time.\n",
    "chestnut_manju_volume = volume\n",
    "total_volume = volume\n",
    "time = 0\n",
    "while total_volume < solar_system_volume:\n",
    "    chestnut_manju_volume *= 3\n",
    "    total_volume += chestnut_manju_volume\n",
    "    time += 5\n",
    "\n",
    " # Finally, we'll output the elapsed time in minutes\n",
    "print(f\"The solar system will be covered with chestnut manju in {time} minutes.\")"
   ]
  },
  {
   "attachments": {},
   "cell_type": "markdown",
   "metadata": {},
   "source": [
    "\n",
    "\n",
    "1.   Define the volume of one chestnut manju.\n",
    "2.   Define the volume of the solar system\n",
    "3.   Create a loop that doubles the number of chestnut manju every 5 minutes.\n",
    "4.   Keep track of the total volume of chestnut manju and the elapsed time.\n",
    "5.   Stop the loop when the total volume of chestnut manju exceeds the volume of the solar system.\n"
   ]
  }
 ],
 "metadata": {
  "colab": {
   "provenance": []
  },
  "kernelspec": {
   "display_name": "Python 3 (ipykernel)",
   "language": "python",
   "name": "python3"
  },
  "language_info": {
   "codemirror_mode": {
    "name": "ipython",
    "version": 3
   },
   "file_extension": ".py",
   "mimetype": "text/x-python",
   "name": "python",
   "nbconvert_exporter": "python",
   "pygments_lexer": "ipython3",
   "version": "3.8.10"
  }
 },
 "nbformat": 4,
 "nbformat_minor": 1
}
