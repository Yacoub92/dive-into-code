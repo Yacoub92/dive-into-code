{
 "cells": [
  {
   "cell_type": "code",
   "execution_count": 1,
   "metadata": {
    "id": "Tr0jsIIkekkd"
   },
   "outputs": [
    {
     "name": "stdout",
     "output_type": "stream",
     "text": [
      "It would take 0.45 days for a single chestnut bun to cover the entire solar system.\n"
     ]
    }
   ],
   "source": [
    "import math\n",
    "\n",
    "def time_to_cover_volume(initial_volume, final_volume, doubling_time):\n",
    "    \"\"\"\n",
    "    Calculates the time it takes for an object's volume to double and reach a final volume,\n",
    "    assuming it doubles every 'doubling_time' minutes.\n",
    "\n",
    "    Args:\n",
    "    - initial_volume (float): the initial volume of the object\n",
    "    - final_volume (float): the final volume to be reached\n",
    "    - doubling_time (float): the time it takes for the object's volume to double, in minutes\n",
    "\n",
    "    Returns:\n",
    "    - time_to_reach_final_volume (float): the time it takes for the object to reach the final volume, in minutes\n",
    "    \"\"\"\n",
    "\n",
    "    num_doublings = math.log2(final_volume / initial_volume)\n",
    "    time_to_double = doubling_time\n",
    "    time_to_reach_final_volume = num_doublings * time_to_double\n",
    "\n",
    "    return time_to_reach_final_volume\n",
    "\n",
    "# Example usage:\n",
    "solar_system_volume = 6.78 * 10**40 # cubic centimeters\n",
    "chestnut_bun_volume = 100 # cubic centimeters\n",
    "doubling_time = 5 # minutes\n",
    "\n",
    "time_to_cover_solar_system = time_to_cover_volume(\n",
    "    initial_volume=chestnut_bun_volume,\n",
    "    final_volume=solar_system_volume,\n",
    "    doubling_time=doubling_time\n",
    ")\n",
    "\n",
    "print(f\"It would take {time_to_cover_solar_system / 60 / 24:.2f} days for a single chestnut bun to cover the entire solar system.\")\n"
   ]
  },
  {
   "cell_type": "code",
   "execution_count": 3,
   "metadata": {},
   "outputs": [
    {
     "ename": "SyntaxError",
     "evalue": "invalid syntax (4005706539.py, line 1)",
     "output_type": "error",
     "traceback": [
      "\u001b[1;36m  Cell \u001b[1;32mIn[3], line 1\u001b[1;36m\u001b[0m\n\u001b[1;33m    import matplotlib.pyplot as\u001b[0m\n\u001b[1;37m                               ^\u001b[0m\n\u001b[1;31mSyntaxError\u001b[0m\u001b[1;31m:\u001b[0m invalid syntax\n"
     ]
    }
   ],
   "source": [
    "import matplotlib.pyplot as"
   ]
  },
  {
   "cell_type": "code",
   "execution_count": null,
   "metadata": {},
   "outputs": [],
   "source": []
  }
 ],
 "metadata": {
  "colab": {
   "provenance": []
  },
  "kernelspec": {
   "display_name": "Python 3 (ipykernel)",
   "language": "python",
   "name": "python3"
  },
  "language_info": {
   "codemirror_mode": {
    "name": "ipython",
    "version": 3
   },
   "file_extension": ".py",
   "mimetype": "text/x-python",
   "name": "python",
   "nbconvert_exporter": "python",
   "pygments_lexer": "ipython3",
   "version": "3.10.9"
  }
 },
 "nbformat": 4,
 "nbformat_minor": 1
}
