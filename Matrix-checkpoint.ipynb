{
 "cells": [
  {
   "cell_type": "code",
   "execution_count": 1,
   "metadata": {},
   "outputs": [
    {
     "name": "stdout",
     "output_type": "stream",
     "text": [
      "AB =\n",
      "[[  6  29 -20]\n",
      " [ 12  52  38]\n",
      " [-18 -51 -48]]\n"
     ]
    }
   ],
   "source": [
    "# Problem 1\n",
    "\n",
    "import numpy as np\n",
    "\n",
    "# Define matrices A and B\n",
    "A = np.array([[-1, 2, 3], [4, -5, 6], [7, 8, -9]])\n",
    "B = np.array([[0, 2, 1], [0, 2, -8], [2, 9, -1]])\n",
    "\n",
    "# Calculate the matrix product AB\n",
    "AB = np.dot(A, B)\n",
    "\n",
    "# Print the result\n",
    "print(\"AB =\")\n",
    "print(AB)\n"
   ]
  },
  {
   "cell_type": "markdown",
   "metadata": {},
   "source": [
    "The matrix product of A and B, denoted as AB, is obtained by multiplying the rows of A with the columns of B and summing the products. The resulting matrix has the same number of rows as A and the same number of columns as B.\n",
    "\n",
    "To calculate the matrix product AB, we need to take the dot product of each row in A with each column in B. The resulting matrix will be a 3x3 matrix.\n"
   ]
  },
  {
   "cell_type": "code",
   "execution_count": 2,
   "metadata": {},
   "outputs": [
    {
     "name": "stdout",
     "output_type": "stream",
     "text": [
      "AB =\n",
      "[[  6  29 -20]\n",
      " [ 12  52  38]\n",
      " [-18 -51 -48]]\n",
      "AB =\n",
      "[[  6  29 -20]\n",
      " [ 12  52  38]\n",
      " [-18 -51 -48]]\n",
      "AB =\n",
      "[[  6  29 -20]\n",
      " [ 12  52  38]\n",
      " [-18 -51 -48]]\n"
     ]
    }
   ],
   "source": [
    "# Problem 2\n",
    "\n",
    "#np.dot() \n",
    "import numpy as np\n",
    "\n",
    "# Define matrices A and B\n",
    "A = np.array([[-1, 2, 3], [4, -5, 6], [7, 8, -9]])\n",
    "B = np.array([[0, 2, 1], [0, 2, -8], [2, 9, -1]])\n",
    "\n",
    "# Calculate the matrix product AB using np.dot()\n",
    "AB = np.dot(A, B)\n",
    "\n",
    "# Print the result\n",
    "print(\"AB =\")\n",
    "print(AB)\n",
    "\n",
    "#Using np.matmul()\n",
    "\n",
    "\n",
    "import numpy as np\n",
    "\n",
    "# Define matrices A and B\n",
    "A = np.array([[-1, 2, 3], [4, -5, 6], [7, 8, -9]])\n",
    "B = np.array([[0, 2, 1], [0, 2, -8], [2, 9, -1]])\n",
    "\n",
    "# Calculate the matrix product AB using np.matmul()\n",
    "AB = np.matmul(A, B)\n",
    "\n",
    "# Print the result\n",
    "print(\"AB =\")\n",
    "print(AB)\n",
    "\n",
    "# using @ operator\n",
    "import numpy as np\n",
    "\n",
    "# Define matrices A and B\n",
    "A = np.array([[-1, 2, 3], [4, -5, 6], [7, 8, -9]])\n",
    "B = np.array([[0, 2, 1], [0, 2, -8], [2, 9, -1]])\n",
    "\n",
    "# Calculate the matrix product AB using the @ operator\n",
    "AB = A @ B\n",
    "\n",
    "# Print the result\n",
    "print(\"AB =\")\n",
    "print(AB)\n",
    "\n"
   ]
  },
  {
   "cell_type": "code",
   "execution_count": 3,
   "metadata": {},
   "outputs": [
    {
     "name": "stdout",
     "output_type": "stream",
     "text": [
      "AB =\n",
      "[[  6.  29. -20.]\n",
      " [ 12.  52.  38.]\n",
      " [-18. -51. -48.]]\n"
     ]
    }
   ],
   "source": [
    "# Problem 3\n",
    "\n",
    "import numpy as np\n",
    "\n",
    "# Define matrices A and B\n",
    "A = np.array([[-1, 2, 3], [4, -5, 6], [7, 8, -9]])\n",
    "B = np.array([[0, 2, 1], [0, 2, -8], [2, 9, -1]])\n",
    "\n",
    "# Initialize an empty matrix AB with the same shape as A and B\n",
    "AB = np.zeros((A.shape[0], B.shape[1]))\n",
    "\n",
    "# Loop over the rows of A\n",
    "for i in range(A.shape[0]):\n",
    "    # Loop over the columns of B\n",
    "    for j in range(B.shape[1]):\n",
    "        # Loop over the elements of A's ith row and B's jth column\n",
    "        for k in range(A.shape[1]):\n",
    "            # Compute the dot product of A's ith row and B's jth column\n",
    "            AB[i,j] += A[i,k] * B[k,j]\n",
    "\n",
    "# Print the result\n",
    "print(\"AB =\")\n",
    "print(AB)\n"
   ]
  },
  {
   "cell_type": "code",
   "execution_count": 4,
   "metadata": {},
   "outputs": [
    {
     "name": "stdout",
     "output_type": "stream",
     "text": [
      "c_ndarray =\n",
      "[[  6.  29. -20.]\n",
      " [ 12.  52.  38.]\n",
      " [-18. -51. -48.]]\n"
     ]
    }
   ],
   "source": [
    "# Problem 4\n",
    "\n",
    "import numpy as np\n",
    "\n",
    "def matrix_product(A, B):\n",
    "    # Initialize an empty matrix AB with the same shape as A and B\n",
    "    AB = np.zeros((A.shape[0], B.shape[1]))\n",
    "\n",
    "    # Loop over the rows of A\n",
    "    for i in range(A.shape[0]):\n",
    "        # Loop over the columns of B\n",
    "        for j in range(B.shape[1]):\n",
    "            # Loop over the elements of A's ith row and B's jth column\n",
    "            for k in range(A.shape[1]):\n",
    "                # Compute the dot product of A's ith row and B's jth column\n",
    "                AB[i,j] += A[i,k] * B[k,j]\n",
    "\n",
    "    # Return the resulting matrix AB\n",
    "    return AB\n",
    "\n",
    "a_ndarray = np.array([[-1, 2, 3], [4, -5, 6], [7, 8, -9]])\n",
    "b_ndarray = np.array([[0, 2, 1], [0, 2, -8], [2, 9, -1]])\n",
    "\n",
    "c_ndarray = matrix_product(a_ndarray, b_ndarray)\n",
    "print(\"c_ndarray =\")\n",
    "print(c_ndarray)\n"
   ]
  },
  {
   "cell_type": "code",
   "execution_count": 7,
   "metadata": {},
   "outputs": [
    {
     "name": "stdout",
     "output_type": "stream",
     "text": [
      "Error: The number of columns of A must equal the number of rows of B.\n"
     ]
    }
   ],
   "source": [
    "# Problem 5\n",
    "'Heres an updated implementation of the matrix product function that includes a check for whether the matrix product is defined or not, and displays an error message if it is not'\n",
    "\n",
    "def matrix_product(a, b):\n",
    "    if a.shape[1] != b.shape[0]:\n",
    "        print(\"Error: The number of columns of A must equal the number of rows of B.\")\n",
    "        return None\n",
    "    \n",
    "    c = np.zeros((a.shape[0], b.shape[1]))\n",
    "    for i in range(a.shape[0]):\n",
    "        for j in range(b.shape[1]):\n",
    "            for k in range(a.shape[1]):\n",
    "                c[i,j] += a[i,k] * b[k,j]\n",
    "                \n",
    "    return c\n",
    "\n",
    "'an error message will be displayed instead of trying to calculate the product incorrectly:'\n",
    "d_ndarray = np.array([[-1, 2, 3], [4, -5, 6]])\n",
    "e_ndarray = np.array([[-9, 8, 7], [6, -5, 4]])\n",
    "\n",
    "result = matrix_product(d_ndarray, e_ndarray)\n",
    "\n"
   ]
  },
  {
   "cell_type": "code",
   "execution_count": 9,
   "metadata": {},
   "outputs": [
    {
     "name": "stdout",
     "output_type": "stream",
     "text": [
      "Matrix A:\n",
      " [[-1  2  3]\n",
      " [ 4 -5  6]\n",
      " [ 7  8 -9]]\n",
      "Matrix B:\n",
      " [[ 0  2  1]\n",
      " [ 0  2 -8]\n",
      " [ 2  9 -1]]\n",
      "Matrix C:\n",
      " [[  7 -20  13]\n",
      " [ -4 -58 -43]\n",
      " [  7  88  95]]\n"
     ]
    }
   ],
   "source": [
    "# Problem 6\n",
    "\n",
    "import numpy as np\n",
    "\n",
    "A = np.array([[-1, 2, 3], [4, -5, 6], [7, 8, -9]])\n",
    "B = np.array([[0, 2, 1], [0, 2, -8], [2, 9, -1]])\n",
    "\n",
    "# Transpose matrix B\n",
    "B_T = B.T\n",
    "\n",
    "# Calculate matrix product AB\n",
    "C = np.dot(A, B_T)\n",
    "\n",
    "print(\"Matrix A:\\n\", A)\n",
    "print(\"Matrix B:\\n\", B)\n",
    "print(\"Matrix C:\\n\", C)\n",
    "\n"
   ]
  },
  {
   "cell_type": "code",
   "execution_count": null,
   "metadata": {},
   "outputs": [],
   "source": []
  }
 ],
 "metadata": {
  "colab": {
   "provenance": []
  },
  "kernelspec": {
   "display_name": "Python 3 (ipykernel)",
   "language": "python",
   "name": "python3"
  },
  "language_info": {
   "codemirror_mode": {
    "name": "ipython",
    "version": 3
   },
   "file_extension": ".py",
   "mimetype": "text/x-python",
   "name": "python",
   "nbconvert_exporter": "python",
   "pygments_lexer": "ipython3",
   "version": "3.10.9"
  }
 },
 "nbformat": 4,
 "nbformat_minor": 1
}
