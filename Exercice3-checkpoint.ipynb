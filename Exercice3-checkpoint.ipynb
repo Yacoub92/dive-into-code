{
 "cells": [
  {
   "cell_type": "code",
   "execution_count": 1,
   "metadata": {
    "id": "1hAcFgzrbCOL"
   },
   "outputs": [
    {
     "name": "stdout",
     "output_type": "stream",
     "text": [
      "Minimum number of times to fold the paper required for the thickness to exceed the height of Mt. Fuji: 26\n"
     ]
    }
   ],
   "source": [
    "# Problem 1\n",
    "\n",
    "import math\n",
    "\n",
    "# Set the thickness of the paper when folded once\n",
    "t0 = 0.00008\n",
    "\n",
    "# Set the height of Mt. Fuji\n",
    "fuji_height = 3776\n",
    "\n",
    "# Calculate the minimum number of times to fold the paper required for the thickness to exceed the height of Mt. Fuji\n",
    "n = math.ceil(math.log2(fuji_height/t0))\n",
    "\n",
    "# Print the result\n",
    "print(\"Minimum number of times to fold the paper required for the thickness to exceed the height of Mt. Fuji:\", n)\n"
   ]
  },
  {
   "cell_type": "code",
   "execution_count": 4,
   "metadata": {},
   "outputs": [
    {
     "name": "stdout",
     "output_type": "stream",
     "text": [
      "Minimum number of folds required to reach Proxima Centauri: 69\n"
     ]
    }
   ],
   "source": [
    "# Problem 2\n",
    "\n",
    "import math\n",
    "\n",
    "def num_folds_to_exceed_height(height, t0):\n",
    "    \n",
    "    #  minimum number of times to fold the paper required for the thickness to exceed the given height\n",
    "    n = math.ceil(math.log2(height/t0))\n",
    "    return n\n",
    "\n",
    "proxima_centauri_distance = 4.0175e16 #  in meters\n",
    "t0 = 0.00008 # thickness when folded once\n",
    "num_folds = num_folds_to_exceed_height(proxima_centauri_distance, t0)\n",
    "print(\"Minimum number of folds required to reach Proxima Centauri:\", num_folds)\n"
   ]
  },
  {
   "cell_type": "code",
   "execution_count": 6,
   "metadata": {},
   "outputs": [
    {
     "name": "stdout",
     "output_type": "stream",
     "text": [
      "Length of paper needed to reach the Moon: 3.240919444170781e+21 meters\n",
      "Length of paper needed to reach Mt. Fuji: 188646348487.24017 meters\n",
      "Length of paper needed to reach Proxima Centauri: 1.4595803601100348e+37 meters\n"
     ]
    }
   ],
   "source": [
    "# Problem 3\n",
    "\n",
    "import math\n",
    "\n",
    "def length_of_paper(t0, n):\n",
    "    # Calculate the length of paper required to fold the paper to the desired thickness\n",
    "    L = math.pi * t0 / 6 * ((2 ** n) + 4) * ((2 ** n) - 1)\n",
    "    return L\n",
    "\n",
    "# Set the thickness of the paper when folded once\n",
    "t0 = 0.00008\n",
    "\n",
    "# Calculate the length of paper needed to reach the Moon\n",
    "moon_distance = 384400000 # distance to the Moon in meters\n",
    "moon_folds = math.ceil(math.log2(moon_distance/t0))\n",
    "moon_length = length_of_paper(t0, moon_folds)\n",
    "print(\"Length of paper needed to reach the Moon:\", moon_length, \"meters\")\n",
    "\n",
    "# Calculate the length of paper needed to reach Mt. Fuji\n",
    "fuji_height = 3776 # height of Mt. Fuji in meters\n",
    "fuji_folds = math.ceil(math.log2(fuji_height/t0))\n",
    "fuji_length = length_of_paper(t0, fuji_folds)\n",
    "print(\"Length of paper needed to reach Mt. Fuji:\", fuji_length, \"meters\")\n",
    "\n",
    "# Calculate the length of paper needed to reach Proxima Centauri\n",
    "proxima_centauri_distance = 4.0175e16 # distance to Proxima Centauri in meters\n",
    "proxima_centauri_folds = math.ceil(math.log2(proxima_centauri_distance/t0))\n",
    "proxima_centauri_length = length_of_paper(t0, proxima_centauri_folds)\n",
    "print(\"Length of paper needed to reach Proxima Centauri:\", proxima_centauri_length, \"meters\")\n",
    "\n"
   ]
  },
  {
   "cell_type": "code",
   "execution_count": null,
   "metadata": {},
   "outputs": [],
   "source": []
  }
 ],
 "metadata": {
  "colab": {
   "provenance": []
  },
  "kernelspec": {
   "display_name": "Python 3 (ipykernel)",
   "language": "python",
   "name": "python3"
  },
  "language_info": {
   "codemirror_mode": {
    "name": "ipython",
    "version": 3
   },
   "file_extension": ".py",
   "mimetype": "text/x-python",
   "name": "python",
   "nbconvert_exporter": "python",
   "pygments_lexer": "ipython3",
   "version": "3.10.9"
  }
 },
 "nbformat": 4,
 "nbformat_minor": 1
}
